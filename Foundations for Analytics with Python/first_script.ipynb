{
 "cells": [
  {
   "cell_type": "code",
   "execution_count": 3,
   "id": "fc869308",
   "metadata": {},
   "outputs": [
    {
     "name": "stdout",
     "output_type": "stream",
     "text": [
      "O1: I am dedicated to learn Data science.\n"
     ]
    }
   ],
   "source": [
    "print(\"O1: I am dedicated to learn Data science.\")"
   ]
  },
  {
   "cell_type": "code",
   "execution_count": 4,
   "id": "4c41ab5e",
   "metadata": {},
   "outputs": [],
   "source": [
    "#두 수를 더한다.\n",
    "x=4\n",
    "y=5\n",
    "z=x+y"
   ]
  },
  {
   "cell_type": "code",
   "execution_count": 5,
   "id": "374ffec4",
   "metadata": {},
   "outputs": [
    {
     "name": "stdout",
     "output_type": "stream",
     "text": [
      "4 더하기 5는 9 와 같다.\n"
     ]
    }
   ],
   "source": [
    "#format 에서 {0:d}, 0은 인덱스를 뜻함.\n",
    "# {값:표시형식}\n",
    "# d는 앞의 값을 소수접 없는 십진수로 표시하라고 형식을 지정해주는 것.\n",
    "print(\"4 더하기 5는 {0:d} 와 같다.\".format(z))"
   ]
  },
  {
   "cell_type": "code",
   "execution_count": 6,
   "id": "67a3cd0f",
   "metadata": {},
   "outputs": [],
   "source": [
    "a=10\n",
    "b=20\n",
    "c=30"
   ]
  },
  {
   "cell_type": "code",
   "execution_count": 7,
   "id": "f9eee8f5",
   "metadata": {},
   "outputs": [
    {
     "name": "stdout",
     "output_type": "stream",
     "text": [
      "오늘은 10살, 내일은 20살, 내일 모레는 30살!\n"
     ]
    }
   ],
   "source": [
    "print(\"오늘은 {0}살, 내일은 {1}살, 내일 모레는 {2}살!\".format(a,b,c))"
   ]
  },
  {
   "cell_type": "code",
   "execution_count": 8,
   "id": "882e3f24",
   "metadata": {},
   "outputs": [],
   "source": [
    "#두 리스트를 더한다.\n",
    "q=[1,2,3,4]\n",
    "w=[\"first\", \"second\",\"third\",\"fourth\"]\n",
    "e= q+w"
   ]
  },
  {
   "cell_type": "code",
   "execution_count": 9,
   "id": "0023d93d",
   "metadata": {},
   "outputs": [
    {
     "name": "stdout",
     "output_type": "stream",
     "text": [
      "O3: [1, 2, 3, 4],['first', 'second', 'third', 'fourth'],[1, 2, 3, 4, 'first', 'second', 'third', 'fourth']\n"
     ]
    }
   ],
   "source": [
    "print('O3: {0},{1},{2}'.format(q,w,e))"
   ]
  },
  {
   "cell_type": "code",
   "execution_count": 1,
   "id": "4736876b",
   "metadata": {},
   "outputs": [],
   "source": [
    "x=9"
   ]
  },
  {
   "cell_type": "code",
   "execution_count": 4,
   "id": "a02180b2",
   "metadata": {},
   "outputs": [
    {
     "name": "stdout",
     "output_type": "stream",
     "text": [
      "Output #4: 9\n",
      "Output #5: 81\n",
      "Output #6: 4.0\n"
     ]
    }
   ],
   "source": [
    "print(\"Output #4: {0}\".format(x))\n",
    "print(\"Output #5: {0}\".format(3**4))\n",
    "print(\"Output #6: {0}\".format(int(8.3)/int(2.7))) #int() 를 통해 정수형으로 변환"
   ]
  },
  {
   "cell_type": "code",
   "execution_count": 7,
   "id": "8582d08d",
   "metadata": {},
   "outputs": [
    {
     "name": "stdout",
     "output_type": "stream",
     "text": [
      "Output #7: 3.074\n",
      "Output #8: 12.0\n",
      "Output #9: 2.67\n",
      "Output #10: 2.6667\n"
     ]
    }
   ],
   "source": [
    "print(\"Output #7: {0:.3f}\".format(8.3/2.7)) #소수점 아래 3자리 실수형\n",
    "y=2.5*4.8\n",
    "print(\"Output #8: {0:.1f}\".format(y)) #소수점 아래 1자리 실수형\n",
    "r=8/float(3)\n",
    "print(\"Output #9: {0:.2f}\".format(r)) #소수점 아래 2자리 실수형\n",
    "print(\"Output #10: {0:.4f}\".format(8.0/3)) #소수점 아래 4자리 실수형"
   ]
  },
  {
   "cell_type": "code",
   "execution_count": 8,
   "id": "145eec9c",
   "metadata": {},
   "outputs": [],
   "source": [
    "from math import exp, log, sqrt"
   ]
  },
  {
   "cell_type": "code",
   "execution_count": 9,
   "id": "8a81afbb",
   "metadata": {},
   "outputs": [
    {
     "name": "stdout",
     "output_type": "stream",
     "text": [
      "Output #11: 20.0855\n",
      "Output #12: 1.39\n",
      "Output #13: 9.0\n"
     ]
    }
   ],
   "source": [
    "print(\"Output #11: {0:.4f}\".format(exp(3)))\n",
    "print(\"Output #12: {0:.2f}\".format(log(4)))\n",
    "print(\"Output #13: {0:.1f}\".format(sqrt(81)))"
   ]
  },
  {
   "cell_type": "code",
   "execution_count": 13,
   "id": "928c3d34",
   "metadata": {},
   "outputs": [
    {
     "name": "stdout",
     "output_type": "stream",
     "text": [
      "Output #14: I'm enjoying learning python\n",
      "Output #14-1: I' m enjoying learning python\n",
      "Output #15: This is a long string. 긴 글에서 문장을 나누고자 할 때에문장 뒤에 역슬래쉬를 넣고 엔터(개행)을 하면 하나의 문자열로 인식이 된다. 다만 실수로라도 역슬래시 뒤에 공백이 포함되면 문장은 오류가 남.\n",
      "Output #16: \n",
      "여러 줄을 입력하고자 할 때 안전한 방법은\n",
      "3중 작은 따옴표를 사용하는 것이다.\n",
      "Output #17: 물론 삼중 큰따옴표를 사용하여\n",
      "여러줄의 문자열을 입력하는 것도 가능하다.\n"
     ]
    }
   ],
   "source": [
    "print(\"Output #14: {0:s}\".format(\"I'm enjoying learning python\"))\n",
    "print(\"Output #14-1: {0:s}\".format('I\\' m enjoying learning python')) #키보드에 역슬래시가 없을땐 원화표시로\n",
    "print(\"Output #15: {0:s}\".format('This is a long string. 긴 글에서 문장을 나누고자 할 때에\\\n",
    "문장 뒤에 역슬래쉬를 넣고 엔터(개행)을 하면 \\\n",
    "하나의 문자열로 인식이 된다. 다만 실수로라도 역슬래시 뒤에 \\\n",
    "공백이 포함되면 문장은 오류가 남.'))\n",
    "print(\"Output #16: {0:s}\".format('''\n",
    "여러 줄을 입력하고자 할 때 안전한 방법은\n",
    "3중 작은 따옴표를 사용하는 것이다.'''))\n",
    "print(\"Output #17: {0:s}\".format(\"\"\"물론 삼중 큰따옴표를 사용하여\n",
    "여러줄의 문자열을 입력하는 것도 가능하다.\"\"\"))"
   ]
  },
  {
   "cell_type": "code",
   "execution_count": 15,
   "id": "2738a54b",
   "metadata": {},
   "outputs": [
    {
     "name": "stdout",
     "output_type": "stream",
     "text": [
      "Output #18: This is a short string.\n",
      "Output #19: She is very very very very beautiful.\n",
      "Output #20: 23\n"
     ]
    }
   ],
   "source": [
    "s1='This is a '\n",
    "s2='short string.'\n",
    "sentence = s1+s2\n",
    "print(\"Output #18: {0:s}\".format(sentence))\n",
    "print(\"Output #19: {0:s} {1:s}{2:s}\".format(\"She is\", \"very \"*4, \"beautiful.\"))\n",
    "m=len(sentence)\n",
    "print(\"Output #20: {0:d}\".format(m))"
   ]
  },
  {
   "cell_type": "code",
   "execution_count": 17,
   "id": "eae05800",
   "metadata": {},
   "outputs": [
    {
     "name": "stdout",
     "output_type": "stream",
     "text": [
      "Output #21: ['My', 'deliverable', 'is', 'due', 'in', 'May.']\n",
      "Output #22: FIRST PIECE:My SECOND PEICE:deliverable THIRD PIECE:is due in May.\n",
      "Output #23: ['Your', 'deliverable', 'is', 'due', 'in', 'June.']\n",
      "Output #24: deliverable June. June.\n"
     ]
    }
   ],
   "source": [
    "string1='My deliverable is due in May.'\n",
    "string1_list1=string1.split()\n",
    "string1_list2=string1.split(\" \",2)\n",
    "print(\"Output #21: {0}\".format(string1_list1))\n",
    "print(\"Output #22: FIRST PIECE:{0} SECOND PEICE:{1} THIRD PIECE:{2}\"\\\n",
    "      .format(string1_list2[0],string1_list2[1],string1_list2[2]))\n",
    "\n",
    "string2='Your,deliverable,is,due,in,June.'\n",
    "string2_list=string2.split(',')\n",
    "print(\"Output #23: {0}\".format(string2_list))\n",
    "print(\"Output #24: {0} {1} {2}\".format(string2_list[1],string2_list[5],\\\n",
    "                                      string2_list[-1],))"
   ]
  },
  {
   "cell_type": "code",
   "execution_count": null,
   "id": "607f4514",
   "metadata": {},
   "outputs": [],
   "source": []
  }
 ],
 "metadata": {
  "kernelspec": {
   "display_name": "mark",
   "language": "python",
   "name": "mark"
  },
  "language_info": {
   "codemirror_mode": {
    "name": "ipython",
    "version": 3
   },
   "file_extension": ".py",
   "mimetype": "text/x-python",
   "name": "python",
   "nbconvert_exporter": "python",
   "pygments_lexer": "ipython3",
   "version": "3.8.13"
  }
 },
 "nbformat": 4,
 "nbformat_minor": 5
}
