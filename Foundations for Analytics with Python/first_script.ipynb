{
 "cells": [
  {
   "cell_type": "code",
   "execution_count": 8,
   "id": "145eec9c",
   "metadata": {},
   "outputs": [],
   "source": [
    "from math import exp, log, sqrt"
   ]
  },
  {
   "cell_type": "code",
   "execution_count": 1,
   "id": "04784dd4",
   "metadata": {},
   "outputs": [],
   "source": [
    "import re"
   ]
  },
  {
   "cell_type": "code",
   "execution_count": 1,
   "id": "21d7da1e",
   "metadata": {},
   "outputs": [],
   "source": [
    "from datetime import date, time, datetime, timedelta"
   ]
  },
  {
   "cell_type": "code",
   "execution_count": 3,
   "id": "fc869308",
   "metadata": {},
   "outputs": [
    {
     "name": "stdout",
     "output_type": "stream",
     "text": [
      "O1: I am dedicated to learn Data science.\n"
     ]
    }
   ],
   "source": [
    "print(\"O1: I am dedicated to learn Data science.\")"
   ]
  },
  {
   "cell_type": "code",
   "execution_count": 4,
   "id": "4c41ab5e",
   "metadata": {},
   "outputs": [],
   "source": [
    "#두 수를 더한다.\n",
    "x=4\n",
    "y=5\n",
    "z=x+y"
   ]
  },
  {
   "cell_type": "code",
   "execution_count": 5,
   "id": "374ffec4",
   "metadata": {},
   "outputs": [
    {
     "name": "stdout",
     "output_type": "stream",
     "text": [
      "4 더하기 5는 9 와 같다.\n"
     ]
    }
   ],
   "source": [
    "#format 에서 {0:d}, 0은 인덱스를 뜻함.\n",
    "# {값:표시형식}\n",
    "# d는 앞의 값을 소수접 없는 십진수로 표시하라고 형식을 지정해주는 것.\n",
    "print(\"4 더하기 5는 {0:d} 와 같다.\".format(z))"
   ]
  },
  {
   "cell_type": "code",
   "execution_count": 6,
   "id": "67a3cd0f",
   "metadata": {},
   "outputs": [],
   "source": [
    "a=10\n",
    "b=20\n",
    "c=30"
   ]
  },
  {
   "cell_type": "code",
   "execution_count": 7,
   "id": "f9eee8f5",
   "metadata": {},
   "outputs": [
    {
     "name": "stdout",
     "output_type": "stream",
     "text": [
      "오늘은 10살, 내일은 20살, 내일 모레는 30살!\n"
     ]
    }
   ],
   "source": [
    "print(\"오늘은 {0}살, 내일은 {1}살, 내일 모레는 {2}살!\".format(a,b,c))"
   ]
  },
  {
   "cell_type": "code",
   "execution_count": 8,
   "id": "882e3f24",
   "metadata": {},
   "outputs": [],
   "source": [
    "#두 리스트를 더한다.\n",
    "q=[1,2,3,4]\n",
    "w=[\"first\", \"second\",\"third\",\"fourth\"]\n",
    "e= q+w"
   ]
  },
  {
   "cell_type": "code",
   "execution_count": 9,
   "id": "0023d93d",
   "metadata": {},
   "outputs": [
    {
     "name": "stdout",
     "output_type": "stream",
     "text": [
      "O3: [1, 2, 3, 4],['first', 'second', 'third', 'fourth'],[1, 2, 3, 4, 'first', 'second', 'third', 'fourth']\n"
     ]
    }
   ],
   "source": [
    "print('O3: {0},{1},{2}'.format(q,w,e))"
   ]
  },
  {
   "cell_type": "markdown",
   "id": "fc9a5a8a",
   "metadata": {},
   "source": [
    "# 정수"
   ]
  },
  {
   "cell_type": "code",
   "execution_count": 1,
   "id": "4736876b",
   "metadata": {},
   "outputs": [],
   "source": [
    "x=9"
   ]
  },
  {
   "cell_type": "code",
   "execution_count": 4,
   "id": "a02180b2",
   "metadata": {},
   "outputs": [
    {
     "name": "stdout",
     "output_type": "stream",
     "text": [
      "Output #4: 9\n",
      "Output #5: 81\n",
      "Output #6: 4.0\n"
     ]
    }
   ],
   "source": [
    "print(\"Output #4: {0}\".format(x))\n",
    "print(\"Output #5: {0}\".format(3**4))\n",
    "print(\"Output #6: {0}\".format(int(8.3)/int(2.7))) #int() 를 통해 정수형으로 변환"
   ]
  },
  {
   "cell_type": "markdown",
   "id": "806308a7",
   "metadata": {},
   "source": [
    "# 실수"
   ]
  },
  {
   "cell_type": "code",
   "execution_count": 7,
   "id": "8582d08d",
   "metadata": {},
   "outputs": [
    {
     "name": "stdout",
     "output_type": "stream",
     "text": [
      "Output #7: 3.074\n",
      "Output #8: 12.0\n",
      "Output #9: 2.67\n",
      "Output #10: 2.6667\n"
     ]
    }
   ],
   "source": [
    "print(\"Output #7: {0:.3f}\".format(8.3/2.7)) #소수점 아래 3자리 실수형\n",
    "y=2.5*4.8\n",
    "print(\"Output #8: {0:.1f}\".format(y)) #소수점 아래 1자리 실수형\n",
    "r=8/float(3)\n",
    "print(\"Output #9: {0:.2f}\".format(r)) #소수점 아래 2자리 실수형\n",
    "print(\"Output #10: {0:.4f}\".format(8.0/3)) #소수점 아래 4자리 실수형"
   ]
  },
  {
   "cell_type": "code",
   "execution_count": 9,
   "id": "8a81afbb",
   "metadata": {},
   "outputs": [
    {
     "name": "stdout",
     "output_type": "stream",
     "text": [
      "Output #11: 20.0855\n",
      "Output #12: 1.39\n",
      "Output #13: 9.0\n"
     ]
    }
   ],
   "source": [
    "print(\"Output #11: {0:.4f}\".format(exp(3)))\n",
    "print(\"Output #12: {0:.2f}\".format(log(4)))\n",
    "print(\"Output #13: {0:.1f}\".format(sqrt(81)))"
   ]
  },
  {
   "cell_type": "markdown",
   "id": "bff38f2d",
   "metadata": {},
   "source": [
    "# 문자열"
   ]
  },
  {
   "cell_type": "code",
   "execution_count": 13,
   "id": "928c3d34",
   "metadata": {},
   "outputs": [
    {
     "name": "stdout",
     "output_type": "stream",
     "text": [
      "Output #14: I'm enjoying learning python\n",
      "Output #14-1: I' m enjoying learning python\n",
      "Output #15: This is a long string. 긴 글에서 문장을 나누고자 할 때에문장 뒤에 역슬래쉬를 넣고 엔터(개행)을 하면 하나의 문자열로 인식이 된다. 다만 실수로라도 역슬래시 뒤에 공백이 포함되면 문장은 오류가 남.\n",
      "Output #16: \n",
      "여러 줄을 입력하고자 할 때 안전한 방법은\n",
      "3중 작은 따옴표를 사용하는 것이다.\n",
      "Output #17: 물론 삼중 큰따옴표를 사용하여\n",
      "여러줄의 문자열을 입력하는 것도 가능하다.\n"
     ]
    }
   ],
   "source": [
    "print(\"Output #14: {0:s}\".format(\"I'm enjoying learning python\"))\n",
    "print(\"Output #14-1: {0:s}\".format('I\\' m enjoying learning python')) #키보드에 역슬래시가 없을땐 원화표시로\n",
    "print(\"Output #15: {0:s}\".format('This is a long string. 긴 글에서 문장을 나누고자 할 때에\\\n",
    "문장 뒤에 역슬래쉬를 넣고 엔터(개행)을 하면 \\\n",
    "하나의 문자열로 인식이 된다. 다만 실수로라도 역슬래시 뒤에 \\\n",
    "공백이 포함되면 문장은 오류가 남.'))\n",
    "print(\"Output #16: {0:s}\".format('''\n",
    "여러 줄을 입력하고자 할 때 안전한 방법은\n",
    "3중 작은 따옴표를 사용하는 것이다.'''))\n",
    "print(\"Output #17: {0:s}\".format(\"\"\"물론 삼중 큰따옴표를 사용하여\n",
    "여러줄의 문자열을 입력하는 것도 가능하다.\"\"\"))"
   ]
  },
  {
   "cell_type": "code",
   "execution_count": 15,
   "id": "2738a54b",
   "metadata": {},
   "outputs": [
    {
     "name": "stdout",
     "output_type": "stream",
     "text": [
      "Output #18: This is a short string.\n",
      "Output #19: She is very very very very beautiful.\n",
      "Output #20: 23\n"
     ]
    }
   ],
   "source": [
    "s1='This is a '\n",
    "s2='short string.'\n",
    "sentence = s1+s2\n",
    "print(\"Output #18: {0:s}\".format(sentence))\n",
    "print(\"Output #19: {0:s} {1:s}{2:s}\".format(\"She is\", \"very \"*4, \"beautiful.\"))\n",
    "m=len(sentence)\n",
    "print(\"Output #20: {0:d}\".format(m))"
   ]
  },
  {
   "cell_type": "markdown",
   "id": "6323df04",
   "metadata": {},
   "source": [
    "# split"
   ]
  },
  {
   "cell_type": "code",
   "execution_count": 1,
   "id": "eae05800",
   "metadata": {},
   "outputs": [
    {
     "name": "stdout",
     "output_type": "stream",
     "text": [
      "Output #21: ['My', 'deliverable', 'is', 'due', 'in', 'May.']\n",
      "Output #22: FIRST PIECE:My | SECOND PEICE:deliverable | THIRD PIECE:is due in May.\n",
      "Output #23: ['Your', 'deliverable', 'is', 'due', 'in', 'June.']\n",
      "Output #24: deliverable June. June.\n"
     ]
    }
   ],
   "source": [
    "string1='My deliverable is due in May.'\n",
    "string1_list1=string1.split()\n",
    "string1_list2=string1.split(\" \",2)\n",
    "print(\"Output #21: {0}\".format(string1_list1))\n",
    "print(\"Output #22: FIRST PIECE:{0} | SECOND PEICE:{1} | THIRD PIECE:{2}\"\\\n",
    "      .format(string1_list2[0],string1_list2[1],string1_list2[2]))\n",
    "\n",
    "string2='Your,deliverable,is,due,in,June.'\n",
    "string2_list=string2.split(',')\n",
    "print(\"Output #23: {0}\".format(string2_list))\n",
    "print(\"Output #24: {0} {1} {2}\".format(string2_list[1],string2_list[5],\\\n",
    "                                      string2_list[-1],))"
   ]
  },
  {
   "cell_type": "code",
   "execution_count": 2,
   "id": "607f4514",
   "metadata": {},
   "outputs": [
    {
     "name": "stdout",
     "output_type": "stream",
     "text": [
      "Output #25: Your,deliverable,is,due,in,June.\n"
     ]
    }
   ],
   "source": [
    "print('Output #25: {0}'.format(\",\".join(string2_list)))"
   ]
  },
  {
   "cell_type": "markdown",
   "id": "ade281a4",
   "metadata": {},
   "source": [
    "# strip"
   ]
  },
  {
   "cell_type": "code",
   "execution_count": 20,
   "id": "0ee45b2c",
   "metadata": {},
   "outputs": [
    {
     "name": "stdout",
     "output_type": "stream",
     "text": [
      "Output #26: String3: 원치 않는 문자를   이 문자열에서 삭제하기.\t\t   \n",
      "\n"
     ]
    }
   ],
   "source": [
    "string3=\" 원치 않는 문자를   이 문자열에서 삭제하기.\\t\\t   \\n\"\n",
    "print('Output #26: String3:{0:s}'.format(string3))"
   ]
  },
  {
   "cell_type": "code",
   "execution_count": 21,
   "id": "d835b700",
   "metadata": {},
   "outputs": [
    {
     "name": "stdout",
     "output_type": "stream",
     "text": [
      "Output #27: String3_lstrip:원치 않는 문자를   이 문자열에서 삭제하기.\t\t   \n",
      "\n"
     ]
    }
   ],
   "source": [
    "string3_lstrip=string3.lstrip()\n",
    "print('Output #27: String3_lstrip:{0:s}'.format(string3_lstrip))"
   ]
  },
  {
   "cell_type": "code",
   "execution_count": 22,
   "id": "d1e7f671",
   "metadata": {},
   "outputs": [
    {
     "name": "stdout",
     "output_type": "stream",
     "text": [
      "Output #28: String3_rstrip: 원치 않는 문자를   이 문자열에서 삭제하기.\n"
     ]
    }
   ],
   "source": [
    "string3_rstrip=string3.rstrip()\n",
    "print('Output #28: String3_rstrip:{0:s}'.format(string3_rstrip))"
   ]
  },
  {
   "cell_type": "code",
   "execution_count": 23,
   "id": "dd08c981",
   "metadata": {},
   "outputs": [
    {
     "name": "stdout",
     "output_type": "stream",
     "text": [
      "Output #29: String3_strip:원치 않는 문자를   이 문자열에서 삭제하기.\n"
     ]
    }
   ],
   "source": [
    "string3_strip=string3.strip()\n",
    "print('Output #29: String3_strip:{0:s}'.format(string3_strip))"
   ]
  },
  {
   "cell_type": "code",
   "execution_count": 25,
   "id": "7d109f75",
   "metadata": {},
   "outputs": [
    {
     "name": "stdout",
     "output_type": "stream",
     "text": [
      "Output #30: String4:$$이상한 글자가 여기 또 있네__--+++\n"
     ]
    }
   ],
   "source": [
    "string4=\"$$이상한 글자가 여기 또 있네__--+++\"\n",
    "print('Output #30: String4:{0:s}'.format(string4))"
   ]
  },
  {
   "cell_type": "code",
   "execution_count": 26,
   "id": "9df6fdb2",
   "metadata": {},
   "outputs": [
    {
     "name": "stdout",
     "output_type": "stream",
     "text": [
      "Output #31: String4_strip:이상한 글자 다 지움.\n"
     ]
    }
   ],
   "source": [
    "string4=\"$$이상한 글자 다 지움.__--+++\"\n",
    "string4_strip=string4.strip(\"$_-+\")\n",
    "print('Output #31: String4_strip:{0:s}'.format(string4_strip))"
   ]
  },
  {
   "cell_type": "markdown",
   "id": "0057e4e6",
   "metadata": {},
   "source": [
    "# replace"
   ]
  },
  {
   "cell_type": "code",
   "execution_count": 30,
   "id": "8ab2f647",
   "metadata": {},
   "outputs": [
    {
     "name": "stdout",
     "output_type": "stream",
     "text": [
      "Output #32: \"!@!\"로 치환: 이!@!문장에!@!존재하는!@!공백문자를!@!다른!@!문자로!@!치환해봅시다.\n"
     ]
    }
   ],
   "source": [
    "string5=\"이 문장에 존재하는 공백문자를 다른 문자로 치환해봅시다.\"\n",
    "string5_replace=string5.replace(\" \",\"!@!\")\n",
    "print('Output #32: \"!@!\"로 치환: {0:s}'.format(string5_replace))"
   ]
  },
  {
   "cell_type": "code",
   "execution_count": 31,
   "id": "8d69198e",
   "metadata": {},
   "outputs": [
    {
     "name": "stdout",
     "output_type": "stream",
     "text": [
      "Output #33:\"쉼표\"로 치환: 이,문장에,존재하는,공백문자를,다른,문자로,치환해봅시다.\n"
     ]
    }
   ],
   "source": [
    "string5_replace=string5.replace(\" \",\",\")\n",
    "print('Output #33:\"쉼표\"로 치환: {0:s}'.format(string5_replace))"
   ]
  },
  {
   "cell_type": "markdown",
   "id": "8c90c2f5",
   "metadata": {},
   "source": [
    "# lower, upper, capitalize"
   ]
  },
  {
   "cell_type": "code",
   "execution_count": 32,
   "id": "28f2de39",
   "metadata": {},
   "outputs": [
    {
     "name": "stdout",
     "output_type": "stream",
     "text": [
      "Output #34: here's what happens when you use lower.\n"
     ]
    }
   ],
   "source": [
    "string6=\"Here's WHAT Happens WHEN You Use lower.\"\n",
    "print('Output #34: {0:s}'.format(string6.lower()))"
   ]
  },
  {
   "cell_type": "code",
   "execution_count": 33,
   "id": "cccac60c",
   "metadata": {},
   "outputs": [
    {
     "name": "stdout",
     "output_type": "stream",
     "text": [
      "Output #35: HERE'S WHAT HAPPENS WHEN YOU USE UPPER.\n"
     ]
    }
   ],
   "source": [
    "string7=\"Here's WHAT Happens WHEN You Use UPPER.\"\n",
    "print('Output #35: {0:s}'.format(string7.upper()))"
   ]
  },
  {
   "cell_type": "code",
   "execution_count": 34,
   "id": "4102ab41",
   "metadata": {},
   "outputs": [
    {
     "name": "stdout",
     "output_type": "stream",
     "text": [
      "Output #36: Here's what happens when you use capitalise.\n"
     ]
    }
   ],
   "source": [
    "#문장의 첫 글자만 대문자로 변환\n",
    "string8=\"Here's WHAT Happens WHEN You Use Capitalise.\"\n",
    "print('Output #36: {0:s}'.format(string8.capitalize()))"
   ]
  },
  {
   "cell_type": "code",
   "execution_count": 36,
   "id": "c242fad9",
   "metadata": {},
   "outputs": [
    {
     "name": "stdout",
     "output_type": "stream",
     "text": [
      "Output #37: 각 단어\n",
      "Here's\n",
      "What\n",
      "Happens\n",
      "When\n",
      "You\n",
      "Use\n",
      "Capitalise.\n"
     ]
    }
   ],
   "source": [
    "string8_list=string8.split()\n",
    "print('Output #37: 각 단어')\n",
    "for word in string8_list:\n",
    "    print(\"{0:s}\".format(word.capitalize()))"
   ]
  },
  {
   "cell_type": "markdown",
   "id": "4362420e",
   "metadata": {},
   "source": [
    "# 정규 표현식 "
   ]
  },
  {
   "cell_type": "code",
   "execution_count": 2,
   "id": "1c39af03",
   "metadata": {},
   "outputs": [],
   "source": [
    "#문자열 내에 등장하는 패턴의 횟수를 세기\n",
    "string = 'The quick brown fox jumps over the lazy dog.'\n",
    "string_list =string.split()"
   ]
  },
  {
   "cell_type": "code",
   "execution_count": 6,
   "id": "25cdd116",
   "metadata": {},
   "outputs": [],
   "source": [
    "pattern = re.compile(r\"The\", re.I)\n",
    "# 괄호 안의 'r' 은 원시문자열(raw string)임을 나타냄.\n",
    "# 원시문자열로 나타낼 경우, 파이썬이 문자열 내에서 \\,\\t,\\n 등의 형태를 따로 처리 하지 않도록 함.\n",
    "# re.compile 은 텍스트 기반의 문자를 정규표현식 형태로 컴파일 함. \n",
    "# 필수는 아니지만 프로그램의 속도 향상 가능\n",
    "# re.I 는 패턴이 대/소문자 구분 없이 찾아낼 수 있도록 함. \n",
    "# The 와 the를 같게 인식. \n",
    "#pattern은 찾고자 하는 문자인 \"the\" 정규표현식 형태로 컴파일 하고, 대소문자 구분 없는 원시문자열을 담고 있음."
   ]
  },
  {
   "cell_type": "code",
   "execution_count": 7,
   "id": "bda9698d",
   "metadata": {},
   "outputs": [],
   "source": [
    "count = 0"
   ]
  },
  {
   "cell_type": "code",
   "execution_count": 8,
   "id": "172ebfe3",
   "metadata": {},
   "outputs": [],
   "source": [
    "for word in string_list:\n",
    "    if pattern.search(word):\n",
    "        count +=1\n",
    "#for문은 string_list에 담긴 각 단어를 아래 if문으로 보냄.\n",
    "#re.search()는 pattern 에 있는 단어와 word 가 같으면 \"True\", 다르면 \"False\" 를 출력하는 함수\n",
    "#if 문은 \"만일 단어가 정규표현식과 일치한다면 count 변수에 1을 더한다\" 라는 의미. "
   ]
  },
  {
   "cell_type": "code",
   "execution_count": 9,
   "id": "d7bbc0a9",
   "metadata": {},
   "outputs": [
    {
     "name": "stdout",
     "output_type": "stream",
     "text": [
      "Output #38: 2\n"
     ]
    }
   ],
   "source": [
    "print(\"Output #38: {0:d}\".format(count))"
   ]
  },
  {
   "cell_type": "code",
   "execution_count": 11,
   "id": "c711cf90",
   "metadata": {},
   "outputs": [],
   "source": [
    "#문자열 내에서 발견된 패턴 출력하기 \n",
    "#일치하는 각 문자열을 화면에 출력하기 \n",
    "string = 'The quick brown fox jumps over the lazy dog.'\n",
    "string_list =string.split()\n",
    "pattern = re.compile(r\"(?P<match_word>The)\", re.I)\n",
    "#메타문자 (?P<이름>)에서 <이름> 이란 그룹명을 뜻하며, \n",
    "#일치한 문자열을 나중에 프로그램에서 다시 사용할 수 있게 해주는 변수명과 같은 개념"
   ]
  },
  {
   "cell_type": "code",
   "execution_count": 12,
   "id": "4b025caf",
   "metadata": {},
   "outputs": [
    {
     "name": "stdout",
     "output_type": "stream",
     "text": [
      "Output #39:\n",
      "The\n",
      "the\n"
     ]
    }
   ],
   "source": [
    "print(\"Output #39:\")\n",
    "for word in string_list:\n",
    "    if pattern.search(word):\n",
    "        print(\"{:s}\".format(pattern.search(word).group('match_word')))\n",
    "#if 문: \"만약 결과가 True라면(=단어가 패턴과 일치한다면), search 함수가 반환한 자료구조를 들여다보고\n",
    "#match_word의 그룹의 값을 가져온다음 그 값을 화면에 출력한다\""
   ]
  },
  {
   "cell_type": "code",
   "execution_count": 15,
   "id": "3c2c9450",
   "metadata": {},
   "outputs": [
    {
     "name": "stdout",
     "output_type": "stream",
     "text": [
      "Output #40: a quick brown fox jumps over a lazy dog.\n"
     ]
    }
   ],
   "source": [
    "#문자열 내 'the'를 'a'로 대체하기\n",
    "string1 = 'The quick brown fox jumps over the lazy dog.'\n",
    "string_to_find = r\"The\" #대체할 변수. 문자열이 길 경우에는 변수에 할당하는 것이 적절.\n",
    "pattern = re.compile(string_to_find, re.I)# 변수를 함수에 전달, 변수에 할당된 문자열을 대소문자 없이 인식하도록 컴파일\n",
    "print(\"Output #40: {:s}\".format(pattern.sub(\"a\",string1)))\n",
    "#re.sub(\"대체할 문자열\", 원하는 원래 문장)\n",
    "#string1 이라는 문자열 내에서 pattern과 일치하는 문자열을 'a'로 치환하기. "
   ]
  },
  {
   "cell_type": "markdown",
   "id": "6f5a2ffe",
   "metadata": {},
   "source": [
    "# 날짜"
   ]
  },
  {
   "cell_type": "code",
   "execution_count": 2,
   "id": "98f535c9",
   "metadata": {},
   "outputs": [
    {
     "name": "stdout",
     "output_type": "stream",
     "text": [
      "Output #41: 오늘: 2022-07-01\n"
     ]
    }
   ],
   "source": [
    "#오늘 날짜와 년, 월, 일 요소들을 출력하기\n",
    "#년, 월, 일 요소 포함, 시, 분, 초 미포함\n",
    "today = date.today()\n",
    "print(\"Output #41: 오늘: {0!s}\".format(today))\n",
    "# {0!s} 에서 \"!(느낌표)\"의 의미는 \n",
    "# print문에 전달된 값이 숫자 형식이더라도 문자열로 처리하라는 의미"
   ]
  },
  {
   "cell_type": "code",
   "execution_count": 3,
   "id": "ff9e148b",
   "metadata": {},
   "outputs": [
    {
     "name": "stdout",
     "output_type": "stream",
     "text": [
      "Output #42: 2022\n",
      "Output #43: 7\n",
      "Output #44: 1\n"
     ]
    }
   ],
   "source": [
    "print(\"Output #42: {0!s}\".format(today.year))\n",
    "print(\"Output #43: {0!s}\".format(today.month))\n",
    "print(\"Output #44: {0!s}\".format(today.day))"
   ]
  },
  {
   "cell_type": "code",
   "execution_count": 8,
   "id": "b1bdb01d",
   "metadata": {},
   "outputs": [
    {
     "name": "stdout",
     "output_type": "stream",
     "text": [
      "Output #45: 2022-07-01 08:07:56.311306\n"
     ]
    }
   ],
   "source": [
    "current_datetime = datetime.today()\n",
    "#년, 월, 일, 시,분,초 포함\n",
    "print(\"Output #45: {0!s}\".format(current_datetime))"
   ]
  },
  {
   "cell_type": "code",
   "execution_count": 9,
   "id": "1c69bf34",
   "metadata": {},
   "outputs": [
    {
     "name": "stdout",
     "output_type": "stream",
     "text": [
      "Output #46: 어제: 2022-06-30\n"
     ]
    }
   ],
   "source": [
    "#timedelta 함수를 이용하여 새로운 날짜 계산하기\n",
    "#하루 전\n",
    "one_day = timedelta(days=-1)\n",
    "yesterday = today + one_day\n",
    "print(\"Output #46: 어제: {0!s}\".format(yesterday))"
   ]
  },
  {
   "cell_type": "code",
   "execution_count": 11,
   "id": "4776232e",
   "metadata": {},
   "outputs": [
    {
     "name": "stdout",
     "output_type": "stream",
     "text": [
      "Output #46-1: 10일 후: 2022-07-11\n",
      "Output #46-2: 8시간 전: 2022-06-30\n",
      "Output #46-3: 2주 후: 2022-07-15\n"
     ]
    }
   ],
   "source": [
    "one_day1 = timedelta(days=10)\n",
    "yesterday1 = today + one_day1\n",
    "print(\"Output #46-1: 10일 후: {0!s}\".format(yesterday1))\n",
    "one_day2 = timedelta(hours=-8)\n",
    "yesterday2 = today + one_day2\n",
    "print(\"Output #46-2: 8시간 전: {0!s}\".format(yesterday2))\n",
    "one_day3 = timedelta(weeks=2)\n",
    "yesterday3 = today + one_day3\n",
    "print(\"Output #46-3: 2주 후: {0!s}\".format(yesterday3))"
   ]
  },
  {
   "cell_type": "code",
   "execution_count": 12,
   "id": "9e8b841f",
   "metadata": {},
   "outputs": [
    {
     "name": "stdout",
     "output_type": "stream",
     "text": [
      "Output #47: -1, 57600\n"
     ]
    }
   ],
   "source": [
    "#timedelta() 는 반드시 일:초:마이크로초 의 형식으로 변환하여 정규화 함. \n",
    "eight_hours = timedelta(hours=-8)\n",
    "print(\"Output #47: {0!s}, {1!s}\".format(eight_hours.days, eight_hours.seconds))\n",
    "# 8시간 전(-8) 은 단순히 -28800초가 아니라\n",
    "# 1일(86400초) 에서 -28800초한 57600초이다. \n"
   ]
  },
  {
   "cell_type": "code",
   "execution_count": 15,
   "id": "36437ddf",
   "metadata": {},
   "outputs": [
    {
     "name": "stdout",
     "output_type": "stream",
     "text": [
      "Output #48: 1 day, 0:00:00\n",
      "Output #49: 1\n"
     ]
    }
   ],
   "source": [
    "#두 날짜 사이의 날짜 차이를 계산하기\n",
    "date_diff = today - yesterday\n",
    "print(\"Output #48: {0!s}\".format(date_diff))\n",
    "print(\"Output #49: {0!s}\".format(str(date_diff).split()[0]))"
   ]
  },
  {
   "cell_type": "code",
   "execution_count": 16,
   "id": "8f2390d7",
   "metadata": {},
   "outputs": [
    {
     "name": "stdout",
     "output_type": "stream",
     "text": [
      "Output #50: 07/01/2022\n",
      "Output #51: Jul 01, 2022\n",
      "Output #52: 2022-07-01\n",
      "Output #53: July 01, 2022\n"
     ]
    }
   ],
   "source": [
    "#date 객체를 특정 형식의 문자열로 만들기\n",
    "print(\"Output #50: {:s}\".format(today.strftime(\"%m/%d/%Y\")))\n",
    "print(\"Output #51: {:s}\".format(today.strftime(\"%b %d, %Y\")))\n",
    "print(\"Output #52: {:s}\".format(today.strftime(\"%Y-%m-%d\")))\n",
    "print(\"Output #53: {:s}\".format(today.strftime(\"%B %d, %Y\")))"
   ]
  },
  {
   "cell_type": "code",
   "execution_count": 17,
   "id": "7bbc9ba3",
   "metadata": {},
   "outputs": [],
   "source": [
    "#날짜 문자열로부터 특정 형식의 dateime 객체를 생성하기\n",
    "date1=today.strftime(\"%m/%d/%Y\")\n",
    "date2=today.strftime(\"%b %d, %Y\")\n",
    "date3=today.strftime(\"%Y-%m-%d\")\n",
    "date4=today.strftime(\"%B %d, %Y\")"
   ]
  },
  {
   "cell_type": "code",
   "execution_count": 22,
   "id": "c99174ae",
   "metadata": {},
   "outputs": [
    {
     "name": "stdout",
     "output_type": "stream",
     "text": [
      "Output #54: 2022-07-01 00:00:00\n",
      "Output #55: 2022-07-01 00:00:00\n",
      "Output #56: 2022-07-01\n",
      "Output #57: 2022-07-01\n"
     ]
    }
   ],
   "source": [
    "#다른 date 형식을 지는 4가지 문자열에 기반한\n",
    "#각각 2종류의 datetime 객체들과 date 객체들\n",
    "print(\"Output #54: {!s}\".format(datetime.strptime(date1,\"%m/%d/%Y\")))\n",
    "print(\"Output #55: {!s}\".format(datetime.strptime(date2,\"%b %d, %Y\")))\n",
    "#날짜부분만 출력하기\n",
    "print(\"Output #56: {!s}\".format(datetime.date(datetime.strptime(date3,\"%Y-%m-%d\"))))\n",
    "print(\"Output #57: {!s}\".format(datetime.date(datetime.strptime(date4,\"%B %d, %Y\"))))\n",
    "#여기 마지막 두 예제는 다시 들여다 보기"
   ]
  },
  {
   "cell_type": "code",
   "execution_count": null,
   "id": "1efe0e69",
   "metadata": {},
   "outputs": [],
   "source": []
  }
 ],
 "metadata": {
  "kernelspec": {
   "display_name": "Python 3 (ipykernel)",
   "language": "python",
   "name": "python3"
  },
  "language_info": {
   "codemirror_mode": {
    "name": "ipython",
    "version": 3
   },
   "file_extension": ".py",
   "mimetype": "text/x-python",
   "name": "python",
   "nbconvert_exporter": "python",
   "pygments_lexer": "ipython3",
   "version": "3.9.12"
  }
 },
 "nbformat": 4,
 "nbformat_minor": 5
}
