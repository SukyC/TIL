{
 "cells": [
  {
   "cell_type": "code",
   "execution_count": 8,
   "id": "145eec9c",
   "metadata": {},
   "outputs": [],
   "source": [
    "from math import exp, log, sqrt"
   ]
  },
  {
   "cell_type": "code",
   "execution_count": 1,
   "id": "04784dd4",
   "metadata": {},
   "outputs": [],
   "source": [
    "import re"
   ]
  },
  {
   "cell_type": "code",
   "execution_count": 1,
   "id": "21d7da1e",
   "metadata": {},
   "outputs": [],
   "source": [
    "from datetime import date, time, datetime, timedelta"
   ]
  },
  {
   "cell_type": "code",
   "execution_count": 32,
   "id": "4852ca9f",
   "metadata": {},
   "outputs": [],
   "source": [
    "from operator import itemgetter"
   ]
  },
  {
   "cell_type": "code",
   "execution_count": 3,
   "id": "fc869308",
   "metadata": {},
   "outputs": [
    {
     "name": "stdout",
     "output_type": "stream",
     "text": [
      "O1: I am dedicated to learn Data science.\n"
     ]
    }
   ],
   "source": [
    "print(\"O1: I am dedicated to learn Data science.\")"
   ]
  },
  {
   "cell_type": "code",
   "execution_count": 4,
   "id": "4c41ab5e",
   "metadata": {},
   "outputs": [],
   "source": [
    "#두 수를 더한다.\n",
    "x=4\n",
    "y=5\n",
    "z=x+y"
   ]
  },
  {
   "cell_type": "code",
   "execution_count": 5,
   "id": "374ffec4",
   "metadata": {},
   "outputs": [
    {
     "name": "stdout",
     "output_type": "stream",
     "text": [
      "4 더하기 5는 9 와 같다.\n"
     ]
    }
   ],
   "source": [
    "#format 에서 {0:d}, 0은 인덱스를 뜻함.\n",
    "# {값:표시형식}\n",
    "# d는 앞의 값을 소수접 없는 십진수로 표시하라고 형식을 지정해주는 것.\n",
    "print(\"4 더하기 5는 {0:d} 와 같다.\".format(z))"
   ]
  },
  {
   "cell_type": "code",
   "execution_count": 6,
   "id": "67a3cd0f",
   "metadata": {},
   "outputs": [],
   "source": [
    "a=10\n",
    "b=20\n",
    "c=30"
   ]
  },
  {
   "cell_type": "code",
   "execution_count": 7,
   "id": "f9eee8f5",
   "metadata": {},
   "outputs": [
    {
     "name": "stdout",
     "output_type": "stream",
     "text": [
      "오늘은 10살, 내일은 20살, 내일 모레는 30살!\n"
     ]
    }
   ],
   "source": [
    "print(\"오늘은 {0}살, 내일은 {1}살, 내일 모레는 {2}살!\".format(a,b,c))"
   ]
  },
  {
   "cell_type": "code",
   "execution_count": 8,
   "id": "882e3f24",
   "metadata": {},
   "outputs": [],
   "source": [
    "#두 리스트를 더한다.\n",
    "q=[1,2,3,4]\n",
    "w=[\"first\", \"second\",\"third\",\"fourth\"]\n",
    "e= q+w"
   ]
  },
  {
   "cell_type": "code",
   "execution_count": 9,
   "id": "0023d93d",
   "metadata": {},
   "outputs": [
    {
     "name": "stdout",
     "output_type": "stream",
     "text": [
      "O3: [1, 2, 3, 4],['first', 'second', 'third', 'fourth'],[1, 2, 3, 4, 'first', 'second', 'third', 'fourth']\n"
     ]
    }
   ],
   "source": [
    "print('O3: {0},{1},{2}'.format(q,w,e))"
   ]
  },
  {
   "cell_type": "markdown",
   "id": "fc9a5a8a",
   "metadata": {},
   "source": [
    "# 정수"
   ]
  },
  {
   "cell_type": "code",
   "execution_count": 1,
   "id": "4736876b",
   "metadata": {},
   "outputs": [],
   "source": [
    "x=9"
   ]
  },
  {
   "cell_type": "code",
   "execution_count": 4,
   "id": "a02180b2",
   "metadata": {},
   "outputs": [
    {
     "name": "stdout",
     "output_type": "stream",
     "text": [
      "Output #4: 9\n",
      "Output #5: 81\n",
      "Output #6: 4.0\n"
     ]
    }
   ],
   "source": [
    "print(\"Output #4: {0}\".format(x))\n",
    "print(\"Output #5: {0}\".format(3**4))\n",
    "print(\"Output #6: {0}\".format(int(8.3)/int(2.7))) #int() 를 통해 정수형으로 변환"
   ]
  },
  {
   "cell_type": "markdown",
   "id": "806308a7",
   "metadata": {},
   "source": [
    "# 실수"
   ]
  },
  {
   "cell_type": "code",
   "execution_count": 7,
   "id": "8582d08d",
   "metadata": {},
   "outputs": [
    {
     "name": "stdout",
     "output_type": "stream",
     "text": [
      "Output #7: 3.074\n",
      "Output #8: 12.0\n",
      "Output #9: 2.67\n",
      "Output #10: 2.6667\n"
     ]
    }
   ],
   "source": [
    "print(\"Output #7: {0:.3f}\".format(8.3/2.7)) #소수점 아래 3자리 실수형\n",
    "y=2.5*4.8\n",
    "print(\"Output #8: {0:.1f}\".format(y)) #소수점 아래 1자리 실수형\n",
    "r=8/float(3)\n",
    "print(\"Output #9: {0:.2f}\".format(r)) #소수점 아래 2자리 실수형\n",
    "print(\"Output #10: {0:.4f}\".format(8.0/3)) #소수점 아래 4자리 실수형"
   ]
  },
  {
   "cell_type": "code",
   "execution_count": 9,
   "id": "8a81afbb",
   "metadata": {},
   "outputs": [
    {
     "name": "stdout",
     "output_type": "stream",
     "text": [
      "Output #11: 20.0855\n",
      "Output #12: 1.39\n",
      "Output #13: 9.0\n"
     ]
    }
   ],
   "source": [
    "print(\"Output #11: {0:.4f}\".format(exp(3)))\n",
    "print(\"Output #12: {0:.2f}\".format(log(4)))\n",
    "print(\"Output #13: {0:.1f}\".format(sqrt(81)))"
   ]
  },
  {
   "cell_type": "markdown",
   "id": "bff38f2d",
   "metadata": {},
   "source": [
    "# 문자열"
   ]
  },
  {
   "cell_type": "code",
   "execution_count": 13,
   "id": "928c3d34",
   "metadata": {},
   "outputs": [
    {
     "name": "stdout",
     "output_type": "stream",
     "text": [
      "Output #14: I'm enjoying learning python\n",
      "Output #14-1: I' m enjoying learning python\n",
      "Output #15: This is a long string. 긴 글에서 문장을 나누고자 할 때에문장 뒤에 역슬래쉬를 넣고 엔터(개행)을 하면 하나의 문자열로 인식이 된다. 다만 실수로라도 역슬래시 뒤에 공백이 포함되면 문장은 오류가 남.\n",
      "Output #16: \n",
      "여러 줄을 입력하고자 할 때 안전한 방법은\n",
      "3중 작은 따옴표를 사용하는 것이다.\n",
      "Output #17: 물론 삼중 큰따옴표를 사용하여\n",
      "여러줄의 문자열을 입력하는 것도 가능하다.\n"
     ]
    }
   ],
   "source": [
    "print(\"Output #14: {0:s}\".format(\"I'm enjoying learning python\"))\n",
    "print(\"Output #14-1: {0:s}\".format('I\\' m enjoying learning python')) #키보드에 역슬래시가 없을땐 원화표시로\n",
    "print(\"Output #15: {0:s}\".format('This is a long string. 긴 글에서 문장을 나누고자 할 때에\\\n",
    "문장 뒤에 역슬래쉬를 넣고 엔터(개행)을 하면 \\\n",
    "하나의 문자열로 인식이 된다. 다만 실수로라도 역슬래시 뒤에 \\\n",
    "공백이 포함되면 문장은 오류가 남.'))\n",
    "print(\"Output #16: {0:s}\".format('''\n",
    "여러 줄을 입력하고자 할 때 안전한 방법은\n",
    "3중 작은 따옴표를 사용하는 것이다.'''))\n",
    "print(\"Output #17: {0:s}\".format(\"\"\"물론 삼중 큰따옴표를 사용하여\n",
    "여러줄의 문자열을 입력하는 것도 가능하다.\"\"\"))"
   ]
  },
  {
   "cell_type": "code",
   "execution_count": 15,
   "id": "2738a54b",
   "metadata": {},
   "outputs": [
    {
     "name": "stdout",
     "output_type": "stream",
     "text": [
      "Output #18: This is a short string.\n",
      "Output #19: She is very very very very beautiful.\n",
      "Output #20: 23\n"
     ]
    }
   ],
   "source": [
    "s1='This is a '\n",
    "s2='short string.'\n",
    "sentence = s1+s2\n",
    "print(\"Output #18: {0:s}\".format(sentence))\n",
    "print(\"Output #19: {0:s} {1:s}{2:s}\".format(\"She is\", \"very \"*4, \"beautiful.\"))\n",
    "m=len(sentence)\n",
    "print(\"Output #20: {0:d}\".format(m))"
   ]
  },
  {
   "cell_type": "markdown",
   "id": "6323df04",
   "metadata": {},
   "source": [
    "# split"
   ]
  },
  {
   "cell_type": "code",
   "execution_count": 1,
   "id": "eae05800",
   "metadata": {},
   "outputs": [
    {
     "name": "stdout",
     "output_type": "stream",
     "text": [
      "Output #21: ['My', 'deliverable', 'is', 'due', 'in', 'May.']\n",
      "Output #22: FIRST PIECE:My | SECOND PEICE:deliverable | THIRD PIECE:is due in May.\n",
      "Output #23: ['Your', 'deliverable', 'is', 'due', 'in', 'June.']\n",
      "Output #24: deliverable June. June.\n"
     ]
    }
   ],
   "source": [
    "string1='My deliverable is due in May.'\n",
    "string1_list1=string1.split()\n",
    "string1_list2=string1.split(\" \",2)\n",
    "print(\"Output #21: {0}\".format(string1_list1))\n",
    "print(\"Output #22: FIRST PIECE:{0} | SECOND PEICE:{1} | THIRD PIECE:{2}\"\\\n",
    "      .format(string1_list2[0],string1_list2[1],string1_list2[2]))\n",
    "\n",
    "string2='Your,deliverable,is,due,in,June.'\n",
    "string2_list=string2.split(',')\n",
    "print(\"Output #23: {0}\".format(string2_list))\n",
    "print(\"Output #24: {0} {1} {2}\".format(string2_list[1],string2_list[5],\\\n",
    "                                      string2_list[-1],))"
   ]
  },
  {
   "cell_type": "code",
   "execution_count": 2,
   "id": "607f4514",
   "metadata": {},
   "outputs": [
    {
     "name": "stdout",
     "output_type": "stream",
     "text": [
      "Output #25: Your,deliverable,is,due,in,June.\n"
     ]
    }
   ],
   "source": [
    "print('Output #25: {0}'.format(\",\".join(string2_list)))"
   ]
  },
  {
   "cell_type": "markdown",
   "id": "ade281a4",
   "metadata": {},
   "source": [
    "# strip"
   ]
  },
  {
   "cell_type": "code",
   "execution_count": 20,
   "id": "0ee45b2c",
   "metadata": {},
   "outputs": [
    {
     "name": "stdout",
     "output_type": "stream",
     "text": [
      "Output #26: String3: 원치 않는 문자를   이 문자열에서 삭제하기.\t\t   \n",
      "\n"
     ]
    }
   ],
   "source": [
    "string3=\" 원치 않는 문자를   이 문자열에서 삭제하기.\\t\\t   \\n\"\n",
    "print('Output #26: String3:{0:s}'.format(string3))"
   ]
  },
  {
   "cell_type": "code",
   "execution_count": 21,
   "id": "d835b700",
   "metadata": {},
   "outputs": [
    {
     "name": "stdout",
     "output_type": "stream",
     "text": [
      "Output #27: String3_lstrip:원치 않는 문자를   이 문자열에서 삭제하기.\t\t   \n",
      "\n"
     ]
    }
   ],
   "source": [
    "string3_lstrip=string3.lstrip()\n",
    "print('Output #27: String3_lstrip:{0:s}'.format(string3_lstrip))"
   ]
  },
  {
   "cell_type": "code",
   "execution_count": 22,
   "id": "d1e7f671",
   "metadata": {},
   "outputs": [
    {
     "name": "stdout",
     "output_type": "stream",
     "text": [
      "Output #28: String3_rstrip: 원치 않는 문자를   이 문자열에서 삭제하기.\n"
     ]
    }
   ],
   "source": [
    "string3_rstrip=string3.rstrip()\n",
    "print('Output #28: String3_rstrip:{0:s}'.format(string3_rstrip))"
   ]
  },
  {
   "cell_type": "code",
   "execution_count": 23,
   "id": "dd08c981",
   "metadata": {},
   "outputs": [
    {
     "name": "stdout",
     "output_type": "stream",
     "text": [
      "Output #29: String3_strip:원치 않는 문자를   이 문자열에서 삭제하기.\n"
     ]
    }
   ],
   "source": [
    "string3_strip=string3.strip()\n",
    "print('Output #29: String3_strip:{0:s}'.format(string3_strip))"
   ]
  },
  {
   "cell_type": "code",
   "execution_count": 25,
   "id": "7d109f75",
   "metadata": {},
   "outputs": [
    {
     "name": "stdout",
     "output_type": "stream",
     "text": [
      "Output #30: String4:$$이상한 글자가 여기 또 있네__--+++\n"
     ]
    }
   ],
   "source": [
    "string4=\"$$이상한 글자가 여기 또 있네__--+++\"\n",
    "print('Output #30: String4:{0:s}'.format(string4))"
   ]
  },
  {
   "cell_type": "code",
   "execution_count": 26,
   "id": "9df6fdb2",
   "metadata": {},
   "outputs": [
    {
     "name": "stdout",
     "output_type": "stream",
     "text": [
      "Output #31: String4_strip:이상한 글자 다 지움.\n"
     ]
    }
   ],
   "source": [
    "string4=\"$$이상한 글자 다 지움.__--+++\"\n",
    "string4_strip=string4.strip(\"$_-+\")\n",
    "print('Output #31: String4_strip:{0:s}'.format(string4_strip))"
   ]
  },
  {
   "cell_type": "markdown",
   "id": "0057e4e6",
   "metadata": {},
   "source": [
    "# replace"
   ]
  },
  {
   "cell_type": "code",
   "execution_count": 30,
   "id": "8ab2f647",
   "metadata": {},
   "outputs": [
    {
     "name": "stdout",
     "output_type": "stream",
     "text": [
      "Output #32: \"!@!\"로 치환: 이!@!문장에!@!존재하는!@!공백문자를!@!다른!@!문자로!@!치환해봅시다.\n"
     ]
    }
   ],
   "source": [
    "string5=\"이 문장에 존재하는 공백문자를 다른 문자로 치환해봅시다.\"\n",
    "string5_replace=string5.replace(\" \",\"!@!\")\n",
    "print('Output #32: \"!@!\"로 치환: {0:s}'.format(string5_replace))"
   ]
  },
  {
   "cell_type": "code",
   "execution_count": 31,
   "id": "8d69198e",
   "metadata": {},
   "outputs": [
    {
     "name": "stdout",
     "output_type": "stream",
     "text": [
      "Output #33:\"쉼표\"로 치환: 이,문장에,존재하는,공백문자를,다른,문자로,치환해봅시다.\n"
     ]
    }
   ],
   "source": [
    "string5_replace=string5.replace(\" \",\",\")\n",
    "print('Output #33:\"쉼표\"로 치환: {0:s}'.format(string5_replace))"
   ]
  },
  {
   "cell_type": "markdown",
   "id": "8c90c2f5",
   "metadata": {},
   "source": [
    "# lower, upper, capitalize"
   ]
  },
  {
   "cell_type": "code",
   "execution_count": 32,
   "id": "28f2de39",
   "metadata": {},
   "outputs": [
    {
     "name": "stdout",
     "output_type": "stream",
     "text": [
      "Output #34: here's what happens when you use lower.\n"
     ]
    }
   ],
   "source": [
    "string6=\"Here's WHAT Happens WHEN You Use lower.\"\n",
    "print('Output #34: {0:s}'.format(string6.lower()))"
   ]
  },
  {
   "cell_type": "code",
   "execution_count": 33,
   "id": "cccac60c",
   "metadata": {},
   "outputs": [
    {
     "name": "stdout",
     "output_type": "stream",
     "text": [
      "Output #35: HERE'S WHAT HAPPENS WHEN YOU USE UPPER.\n"
     ]
    }
   ],
   "source": [
    "string7=\"Here's WHAT Happens WHEN You Use UPPER.\"\n",
    "print('Output #35: {0:s}'.format(string7.upper()))"
   ]
  },
  {
   "cell_type": "code",
   "execution_count": 34,
   "id": "4102ab41",
   "metadata": {},
   "outputs": [
    {
     "name": "stdout",
     "output_type": "stream",
     "text": [
      "Output #36: Here's what happens when you use capitalise.\n"
     ]
    }
   ],
   "source": [
    "#문장의 첫 글자만 대문자로 변환\n",
    "string8=\"Here's WHAT Happens WHEN You Use Capitalise.\"\n",
    "print('Output #36: {0:s}'.format(string8.capitalize()))"
   ]
  },
  {
   "cell_type": "code",
   "execution_count": 36,
   "id": "c242fad9",
   "metadata": {},
   "outputs": [
    {
     "name": "stdout",
     "output_type": "stream",
     "text": [
      "Output #37: 각 단어\n",
      "Here's\n",
      "What\n",
      "Happens\n",
      "When\n",
      "You\n",
      "Use\n",
      "Capitalise.\n"
     ]
    }
   ],
   "source": [
    "string8_list=string8.split()\n",
    "print('Output #37: 각 단어')\n",
    "for word in string8_list:\n",
    "    print(\"{0:s}\".format(word.capitalize()))"
   ]
  },
  {
   "cell_type": "markdown",
   "id": "4362420e",
   "metadata": {},
   "source": [
    "# 정규 표현식 "
   ]
  },
  {
   "cell_type": "code",
   "execution_count": 2,
   "id": "1c39af03",
   "metadata": {},
   "outputs": [],
   "source": [
    "#문자열 내에 등장하는 패턴의 횟수를 세기\n",
    "string = 'The quick brown fox jumps over the lazy dog.'\n",
    "string_list =string.split()"
   ]
  },
  {
   "cell_type": "code",
   "execution_count": 6,
   "id": "25cdd116",
   "metadata": {},
   "outputs": [],
   "source": [
    "pattern = re.compile(r\"The\", re.I)\n",
    "# 괄호 안의 'r' 은 원시문자열(raw string)임을 나타냄.\n",
    "# 원시문자열로 나타낼 경우, 파이썬이 문자열 내에서 \\,\\t,\\n 등의 형태를 따로 처리 하지 않도록 함.\n",
    "# re.compile 은 텍스트 기반의 문자를 정규표현식 형태로 컴파일 함. \n",
    "# 필수는 아니지만 프로그램의 속도 향상 가능\n",
    "# re.I 는 패턴이 대/소문자 구분 없이 찾아낼 수 있도록 함. \n",
    "# The 와 the를 같게 인식. \n",
    "#pattern은 찾고자 하는 문자인 \"the\" 정규표현식 형태로 컴파일 하고, 대소문자 구분 없는 원시문자열을 담고 있음."
   ]
  },
  {
   "cell_type": "code",
   "execution_count": 7,
   "id": "bda9698d",
   "metadata": {},
   "outputs": [],
   "source": [
    "count = 0"
   ]
  },
  {
   "cell_type": "code",
   "execution_count": 8,
   "id": "172ebfe3",
   "metadata": {},
   "outputs": [],
   "source": [
    "for word in string_list:\n",
    "    if pattern.search(word):\n",
    "        count +=1\n",
    "#for문은 string_list에 담긴 각 단어를 아래 if문으로 보냄.\n",
    "#re.search()는 pattern 에 있는 단어와 word 가 같으면 \"True\", 다르면 \"False\" 를 출력하는 함수\n",
    "#if 문은 \"만일 단어가 정규표현식과 일치한다면 count 변수에 1을 더한다\" 라는 의미. "
   ]
  },
  {
   "cell_type": "code",
   "execution_count": 9,
   "id": "d7bbc0a9",
   "metadata": {},
   "outputs": [
    {
     "name": "stdout",
     "output_type": "stream",
     "text": [
      "Output #38: 2\n"
     ]
    }
   ],
   "source": [
    "print(\"Output #38: {0:d}\".format(count))"
   ]
  },
  {
   "cell_type": "code",
   "execution_count": 11,
   "id": "c711cf90",
   "metadata": {},
   "outputs": [],
   "source": [
    "#문자열 내에서 발견된 패턴 출력하기 \n",
    "#일치하는 각 문자열을 화면에 출력하기 \n",
    "string = 'The quick brown fox jumps over the lazy dog.'\n",
    "string_list =string.split()\n",
    "pattern = re.compile(r\"(?P<match_word>The)\", re.I)\n",
    "#메타문자 (?P<이름>)에서 <이름> 이란 그룹명을 뜻하며, \n",
    "#일치한 문자열을 나중에 프로그램에서 다시 사용할 수 있게 해주는 변수명과 같은 개념"
   ]
  },
  {
   "cell_type": "code",
   "execution_count": 12,
   "id": "4b025caf",
   "metadata": {},
   "outputs": [
    {
     "name": "stdout",
     "output_type": "stream",
     "text": [
      "Output #39:\n",
      "The\n",
      "the\n"
     ]
    }
   ],
   "source": [
    "print(\"Output #39:\")\n",
    "for word in string_list:\n",
    "    if pattern.search(word):\n",
    "        print(\"{:s}\".format(pattern.search(word).group('match_word')))\n",
    "#if 문: \"만약 결과가 True라면(=단어가 패턴과 일치한다면), search 함수가 반환한 자료구조를 들여다보고\n",
    "#match_word의 그룹의 값을 가져온다음 그 값을 화면에 출력한다\""
   ]
  },
  {
   "cell_type": "code",
   "execution_count": 15,
   "id": "3c2c9450",
   "metadata": {},
   "outputs": [
    {
     "name": "stdout",
     "output_type": "stream",
     "text": [
      "Output #40: a quick brown fox jumps over a lazy dog.\n"
     ]
    }
   ],
   "source": [
    "#문자열 내 'the'를 'a'로 대체하기\n",
    "string1 = 'The quick brown fox jumps over the lazy dog.'\n",
    "string_to_find = r\"The\" #대체할 변수. 문자열이 길 경우에는 변수에 할당하는 것이 적절.\n",
    "pattern = re.compile(string_to_find, re.I)# 변수를 함수에 전달, 변수에 할당된 문자열을 대소문자 없이 인식하도록 컴파일\n",
    "print(\"Output #40: {:s}\".format(pattern.sub(\"a\",string1)))\n",
    "#re.sub(\"대체할 문자열\", 원하는 원래 문장)\n",
    "#string1 이라는 문자열 내에서 pattern과 일치하는 문자열을 'a'로 치환하기. "
   ]
  },
  {
   "cell_type": "markdown",
   "id": "6f5a2ffe",
   "metadata": {},
   "source": [
    "# 날짜"
   ]
  },
  {
   "cell_type": "code",
   "execution_count": 2,
   "id": "98f535c9",
   "metadata": {},
   "outputs": [
    {
     "name": "stdout",
     "output_type": "stream",
     "text": [
      "Output #41: 오늘: 2022-07-01\n"
     ]
    }
   ],
   "source": [
    "#오늘 날짜와 년, 월, 일 요소들을 출력하기\n",
    "#년, 월, 일 요소 포함, 시, 분, 초 미포함\n",
    "today = date.today()\n",
    "print(\"Output #41: 오늘: {0!s}\".format(today))\n",
    "# {0!s} 에서 \"!(느낌표)\"의 의미는 \n",
    "# print문에 전달된 값이 숫자 형식이더라도 문자열로 처리하라는 의미"
   ]
  },
  {
   "cell_type": "code",
   "execution_count": 3,
   "id": "ff9e148b",
   "metadata": {},
   "outputs": [
    {
     "name": "stdout",
     "output_type": "stream",
     "text": [
      "Output #42: 2022\n",
      "Output #43: 7\n",
      "Output #44: 1\n"
     ]
    }
   ],
   "source": [
    "print(\"Output #42: {0!s}\".format(today.year))\n",
    "print(\"Output #43: {0!s}\".format(today.month))\n",
    "print(\"Output #44: {0!s}\".format(today.day))"
   ]
  },
  {
   "cell_type": "code",
   "execution_count": 8,
   "id": "b1bdb01d",
   "metadata": {},
   "outputs": [
    {
     "name": "stdout",
     "output_type": "stream",
     "text": [
      "Output #45: 2022-07-01 08:07:56.311306\n"
     ]
    }
   ],
   "source": [
    "current_datetime = datetime.today()\n",
    "#년, 월, 일, 시,분,초 포함\n",
    "print(\"Output #45: {0!s}\".format(current_datetime))"
   ]
  },
  {
   "cell_type": "code",
   "execution_count": 9,
   "id": "1c69bf34",
   "metadata": {},
   "outputs": [
    {
     "name": "stdout",
     "output_type": "stream",
     "text": [
      "Output #46: 어제: 2022-06-30\n"
     ]
    }
   ],
   "source": [
    "#timedelta 함수를 이용하여 새로운 날짜 계산하기\n",
    "#하루 전\n",
    "one_day = timedelta(days=-1)\n",
    "yesterday = today + one_day\n",
    "print(\"Output #46: 어제: {0!s}\".format(yesterday))"
   ]
  },
  {
   "cell_type": "code",
   "execution_count": 11,
   "id": "4776232e",
   "metadata": {},
   "outputs": [
    {
     "name": "stdout",
     "output_type": "stream",
     "text": [
      "Output #46-1: 10일 후: 2022-07-11\n",
      "Output #46-2: 8시간 전: 2022-06-30\n",
      "Output #46-3: 2주 후: 2022-07-15\n"
     ]
    }
   ],
   "source": [
    "one_day1 = timedelta(days=10)\n",
    "yesterday1 = today + one_day1\n",
    "print(\"Output #46-1: 10일 후: {0!s}\".format(yesterday1))\n",
    "one_day2 = timedelta(hours=-8)\n",
    "yesterday2 = today + one_day2\n",
    "print(\"Output #46-2: 8시간 전: {0!s}\".format(yesterday2))\n",
    "one_day3 = timedelta(weeks=2)\n",
    "yesterday3 = today + one_day3\n",
    "print(\"Output #46-3: 2주 후: {0!s}\".format(yesterday3))"
   ]
  },
  {
   "cell_type": "code",
   "execution_count": 12,
   "id": "9e8b841f",
   "metadata": {},
   "outputs": [
    {
     "name": "stdout",
     "output_type": "stream",
     "text": [
      "Output #47: -1, 57600\n"
     ]
    }
   ],
   "source": [
    "#timedelta() 는 반드시 일:초:마이크로초 의 형식으로 변환하여 정규화 함. \n",
    "eight_hours = timedelta(hours=-8)\n",
    "print(\"Output #47: {0!s}, {1!s}\".format(eight_hours.days, eight_hours.seconds))\n",
    "# 8시간 전(-8) 은 단순히 -28800초가 아니라\n",
    "# 1일(86400초) 에서 -28800초한 57600초이다. \n"
   ]
  },
  {
   "cell_type": "code",
   "execution_count": 15,
   "id": "36437ddf",
   "metadata": {},
   "outputs": [
    {
     "name": "stdout",
     "output_type": "stream",
     "text": [
      "Output #48: 1 day, 0:00:00\n",
      "Output #49: 1\n"
     ]
    }
   ],
   "source": [
    "#두 날짜 사이의 날짜 차이를 계산하기\n",
    "date_diff = today - yesterday\n",
    "print(\"Output #48: {0!s}\".format(date_diff))\n",
    "print(\"Output #49: {0!s}\".format(str(date_diff).split()[0]))"
   ]
  },
  {
   "cell_type": "code",
   "execution_count": 16,
   "id": "8f2390d7",
   "metadata": {},
   "outputs": [
    {
     "name": "stdout",
     "output_type": "stream",
     "text": [
      "Output #50: 07/01/2022\n",
      "Output #51: Jul 01, 2022\n",
      "Output #52: 2022-07-01\n",
      "Output #53: July 01, 2022\n"
     ]
    }
   ],
   "source": [
    "#date 객체를 특정 형식의 문자열로 만들기\n",
    "print(\"Output #50: {:s}\".format(today.strftime(\"%m/%d/%Y\")))\n",
    "print(\"Output #51: {:s}\".format(today.strftime(\"%b %d, %Y\")))\n",
    "print(\"Output #52: {:s}\".format(today.strftime(\"%Y-%m-%d\")))\n",
    "print(\"Output #53: {:s}\".format(today.strftime(\"%B %d, %Y\")))"
   ]
  },
  {
   "cell_type": "code",
   "execution_count": 17,
   "id": "7bbc9ba3",
   "metadata": {},
   "outputs": [],
   "source": [
    "#날짜 문자열로부터 특정 형식의 dateime 객체를 생성하기\n",
    "date1=today.strftime(\"%m/%d/%Y\")\n",
    "date2=today.strftime(\"%b %d, %Y\")\n",
    "date3=today.strftime(\"%Y-%m-%d\")\n",
    "date4=today.strftime(\"%B %d, %Y\")"
   ]
  },
  {
   "cell_type": "code",
   "execution_count": 22,
   "id": "c99174ae",
   "metadata": {},
   "outputs": [
    {
     "name": "stdout",
     "output_type": "stream",
     "text": [
      "Output #54: 2022-07-01 00:00:00\n",
      "Output #55: 2022-07-01 00:00:00\n",
      "Output #56: 2022-07-01\n",
      "Output #57: 2022-07-01\n"
     ]
    }
   ],
   "source": [
    "#다른 date 형식을 지는 4가지 문자열에 기반한\n",
    "#각각 2종류의 datetime 객체들과 date 객체들\n",
    "print(\"Output #54: {!s}\".format(datetime.strptime(date1,\"%m/%d/%Y\")))\n",
    "print(\"Output #55: {!s}\".format(datetime.strptime(date2,\"%b %d, %Y\")))\n",
    "#날짜부분만 출력하기\n",
    "print(\"Output #56: {!s}\".format(datetime.date(datetime.strptime(date3,\"%Y-%m-%d\"))))\n",
    "print(\"Output #57: {!s}\".format(datetime.date(datetime.strptime(date4,\"%B %d, %Y\"))))\n",
    "#여기 마지막 두 예제는 다시 들여다 보기"
   ]
  },
  {
   "cell_type": "markdown",
   "id": "7bdab82f",
   "metadata": {},
   "source": [
    "# 리스트"
   ]
  },
  {
   "cell_type": "code",
   "execution_count": 9,
   "id": "102f44bb",
   "metadata": {},
   "outputs": [
    {
     "name": "stdout",
     "output_type": "stream",
     "text": [
      "Output #58: [1, 2, 3]\n",
      "Output #59: a_list는 총 3개의 원소를 가지고 있음.\n",
      "Output #60: a_list에서 가장 큰 값은 3임.\n",
      "Output #61: a_list에서 가장 작은 값은 1임.\n",
      "Output #62: ['printer', 5, ['star', 'circle', 9]]\n",
      "Output #63: another_list도 총 3개의 원소를 가지고 있음.\n",
      "Output #64: 숫자 5는 another_list에 1번 들어감.\n"
     ]
    }
   ],
   "source": [
    "# 리스트를 만들기 위해 대괄호를 사용한다. \n",
    "# len() 함수를 통해 리스트 내 원소의 수를 센다.\n",
    "# max() 함수와 min() 함수는 최대/최소 값을 찾는다. \n",
    "# count() 함수는 리스트 내 특정 값이 등장한 횟수를 센다.\n",
    "a_list= [1,2,3]\n",
    "print(\"Output #58: {}\".format(a_list))\n",
    "print(\"Output #59: a_list는 총 {}개의 원소를 가지고 있음.\".format(len(a_list)))\n",
    "print(\"Output #60: a_list에서 가장 큰 값은 {}임.\".format(max(a_list)))\n",
    "print(\"Output #61: a_list에서 가장 작은 값은 {}임.\".format(min(a_list)))\n",
    "another_list = [\"printer\",5,[\"star\",\"circle\",9]]\n",
    "print(\"Output #62: {}\".format(another_list))\n",
    "print(\"Output #63: another_list도 총 {}개의 원소를 가지고 있음.\".format(len(another_list)))\n",
    "print(\"Output #64: 숫자 5는 another_list에 {}번 들어감.\".format(another_list.count(5)))"
   ]
  },
  {
   "cell_type": "markdown",
   "id": "18eab331",
   "metadata": {},
   "source": [
    "# 인덱스"
   ]
  },
  {
   "cell_type": "code",
   "execution_count": 10,
   "id": "e80cca37",
   "metadata": {},
   "outputs": [
    {
     "name": "stdout",
     "output_type": "stream",
     "text": [
      "Output #65: 1\n",
      "Output #66: 2\n",
      "Output #67: 3\n",
      "Output #68: 3\n",
      "Output #69: 2\n",
      "Output #70: 1\n",
      "Output #71: ['star', 'circle', 9]\n",
      "Output #72: ['star', 'circle', 9]\n"
     ]
    }
   ],
   "source": [
    "# 리스트 내 특정 원소에 접근하려면 인덱스를 이용할 수 있다.\n",
    "# [0]은 첫 번째 원소이다. [-1]은 마지막 원소이다.\n",
    "print(\"Output #65: {}\".format(a_list[0]))\n",
    "print(\"Output #66: {}\".format(a_list[1]))\n",
    "print(\"Output #67: {}\".format(a_list[2]))\n",
    "print(\"Output #68: {}\".format(a_list[-1]))\n",
    "print(\"Output #69: {}\".format(a_list[-2]))\n",
    "print(\"Output #70: {}\".format(a_list[-3]))\n",
    "print(\"Output #71: {}\".format(another_list[2]))\n",
    "print(\"Output #72: {}\".format(another_list[-1]))"
   ]
  },
  {
   "cell_type": "markdown",
   "id": "4435750d",
   "metadata": {},
   "source": [
    "# 리스트 분할하기"
   ]
  },
  {
   "cell_type": "code",
   "execution_count": 11,
   "id": "e2604b17",
   "metadata": {},
   "outputs": [
    {
     "name": "stdout",
     "output_type": "stream",
     "text": [
      "Output #73: [1, 2]\n",
      "Output #74: ['printer', 5]\n",
      "Output #75: [2, 3]\n",
      "Output #76: [5, ['star', 'circle', 9]]\n"
     ]
    }
   ],
   "source": [
    "# 리스트 분할을 사용하여 리스트 원소들의 부분집합을 만들 수 있다.\n",
    "# 맨 앞부터 분할하는 경우, 최초 인덱스는 생략\n",
    "# 맨 뒤까지 리스트를 분할하는 경우, 마지막 인덱스는 생략\n",
    "print(\"Output #73: {}\".format(a_list[0:2]))\n",
    "print(\"Output #74: {}\".format(another_list[:2]))\n",
    "print(\"Output #75: {}\".format(a_list[1:3]))\n",
    "print(\"Output #76: {}\".format(another_list[1:]))"
   ]
  },
  {
   "cell_type": "markdown",
   "id": "6869e8ac",
   "metadata": {},
   "source": [
    "# 리스트 복사하기"
   ]
  },
  {
   "cell_type": "code",
   "execution_count": 12,
   "id": "00c44738",
   "metadata": {},
   "outputs": [
    {
     "name": "stdout",
     "output_type": "stream",
     "text": [
      "Output #77: [1, 2, 3]\n"
     ]
    }
   ],
   "source": [
    "# [:]를 이용하여 리스트 복사하기\n",
    "a_new_list = a_list[:]\n",
    "print(\"Output #77: {}\".format(a_new_list))"
   ]
  },
  {
   "cell_type": "markdown",
   "id": "1be4c2ec",
   "metadata": {},
   "source": [
    "# 리스트 병합하기"
   ]
  },
  {
   "cell_type": "code",
   "execution_count": 14,
   "id": "e4fe8fe7",
   "metadata": {},
   "outputs": [
    {
     "name": "stdout",
     "output_type": "stream",
     "text": [
      "Output #78: [1, 2, 3, 'printer', 5, ['star', 'circle', 9]]\n"
     ]
    }
   ],
   "source": [
    "# + 연산자를 이용하여 2개 이상의 리스트를 병합할 수 있다.\n",
    "a_longer_list = a_list + another_list\n",
    "print(\"Output #78: {}\".format(a_longer_list))"
   ]
  },
  {
   "cell_type": "markdown",
   "id": "952b9a2a",
   "metadata": {},
   "source": [
    "# in과 not in"
   ]
  },
  {
   "cell_type": "code",
   "execution_count": 15,
   "id": "370f023e",
   "metadata": {},
   "outputs": [
    {
     "name": "stdout",
     "output_type": "stream",
     "text": [
      "Output #79: True\n"
     ]
    }
   ],
   "source": [
    "# in과 not in을 이용하여 특정 원소의 리스트 내 포함 여부를 확인 할 수 있다\n",
    "a=2 in a_list\n",
    "print(\"Output #79: {}\".format(a))"
   ]
  },
  {
   "cell_type": "code",
   "execution_count": 16,
   "id": "0b82ee39",
   "metadata": {},
   "outputs": [
    {
     "name": "stdout",
     "output_type": "stream",
     "text": [
      "Output #80: 2 is in [1, 2, 3]\n"
     ]
    }
   ],
   "source": [
    "if 2 in a_list:\n",
    "    print(\"Output #80: 2 is in {}\".format(a_list))"
   ]
  },
  {
   "cell_type": "code",
   "execution_count": 18,
   "id": "ac8dc07a",
   "metadata": {},
   "outputs": [
    {
     "name": "stdout",
     "output_type": "stream",
     "text": [
      "Output #81: True\n"
     ]
    }
   ],
   "source": [
    "b = 6 not in a_list\n",
    "print(\"Output #81: {}\".format(b))"
   ]
  },
  {
   "cell_type": "code",
   "execution_count": 19,
   "id": "bffcacef",
   "metadata": {},
   "outputs": [
    {
     "name": "stdout",
     "output_type": "stream",
     "text": [
      "Output #82: 6 is not in [1, 2, 3]\n"
     ]
    }
   ],
   "source": [
    "if 6 not in a_list:\n",
    "    print(\"Output #82: 6 is not in {}\".format(a_list))\n",
    "    \n",
    "# 논리를 추가하기 위해 사용할 수 있음. \n",
    "# in, not in + if문을 통해 제어 흐름을 만들 수 있음."
   ]
  },
  {
   "cell_type": "markdown",
   "id": "6668548f",
   "metadata": {},
   "source": [
    "# append, remove, pop 함수들"
   ]
  },
  {
   "cell_type": "code",
   "execution_count": 20,
   "id": "aa16396f",
   "metadata": {},
   "outputs": [
    {
     "name": "stdout",
     "output_type": "stream",
     "text": [
      "Output #83: [1, 2, 3, 4, 5, 6]\n"
     ]
    }
   ],
   "source": [
    "# append() 함수를 이용하여 리스트의 마지막에 원소를 추가할 수 있음.\n",
    "# remove() 함수를 이용하여 리스트 내 특정 원소를 제거할 수 있음.\n",
    "# pop() 함수를 이용하여 리스트의 마지막 원소를 제거할 수 있음. \n",
    "\n",
    "a_list.append(4)\n",
    "a_list.append(5)\n",
    "a_list.append(6)\n",
    "print(\"Output #83: {}\".format(a_list))\n",
    "\n",
    "# 특정 고객의 구매목록을 생성하고 싶을때\n",
    "# 고객X 의 빈 리스트 생성, 구매목록 탐색, 고객X의 구매건을 확인하면 추가하기 "
   ]
  },
  {
   "cell_type": "code",
   "execution_count": 21,
   "id": "563e0ab0",
   "metadata": {},
   "outputs": [
    {
     "name": "stdout",
     "output_type": "stream",
     "text": [
      "Output #84: [1, 2, 3, 4, 6]\n"
     ]
    }
   ],
   "source": [
    "a_list.remove(5)\n",
    "print(\"Output #84: {}\".format(a_list))\n",
    "\n",
    "#오류나 오타를 제거하는데 사용할 수 있음"
   ]
  },
  {
   "cell_type": "code",
   "execution_count": 22,
   "id": "fce4f3ea",
   "metadata": {},
   "outputs": [
    {
     "name": "stdout",
     "output_type": "stream",
     "text": [
      "Output #85: [1, 2, 3]\n"
     ]
    }
   ],
   "source": [
    "a_list.pop()\n",
    "a_list.pop()\n",
    "print(\"Output #85: {}\".format(a_list))\n",
    "\n",
    "# 리스트의 끝에서부터 제거"
   ]
  },
  {
   "cell_type": "markdown",
   "id": "da47fd41",
   "metadata": {},
   "source": [
    "# reverse 함수"
   ]
  },
  {
   "cell_type": "code",
   "execution_count": 25,
   "id": "ba693af9",
   "metadata": {},
   "outputs": [
    {
     "name": "stdout",
     "output_type": "stream",
     "text": [
      "Output #86: [3, 2, 1]\n",
      "Output #87: [1, 2, 3]\n"
     ]
    }
   ],
   "source": [
    "# reverse() 함수를 이용하여 리스트를 반전할 수 있다. \n",
    "# 해당 리스트 내에서(inplace) 변경이 일어나므로\n",
    "# 기존 리스트를 변경하지 않고 반전하려면 먼저 사본을 만들어야 함.\n",
    "\n",
    "a_list.reverse()\n",
    "print(\"Output #86: {}\".format(a_list))\n",
    "a_list.reverse()\n",
    "print(\"Output #87: {}\".format(a_list))\n",
    "\n",
    "# 인플레이스: 원본 변수 자체가 변경된다는 의미"
   ]
  },
  {
   "cell_type": "markdown",
   "id": "2bd43337",
   "metadata": {},
   "source": [
    "# sort 함수"
   ]
  },
  {
   "cell_type": "code",
   "execution_count": 26,
   "id": "6b7e50ad",
   "metadata": {},
   "outputs": [
    {
     "name": "stdout",
     "output_type": "stream",
     "text": [
      "Output #88: [3, 5, 1, 7, 2, 8, 4, 9, 0, 6]\n"
     ]
    }
   ],
   "source": [
    "# sort() 함수를 이용하여 리스트를 인플레이스로 정렬할 수 있다.\n",
    "# 즉, 기존(원본)의 리스트가 변경된다는 의미이므로\n",
    "# 원본의 변경을 원치 않는다면 사본을 만들어 작업하기\n",
    "\n",
    "unordered_list = [3,5,1,7,2,8,4,9,0,6]\n",
    "print(\"Output #88: {}\".format(unordered_list))"
   ]
  },
  {
   "cell_type": "code",
   "execution_count": 29,
   "id": "058f715c",
   "metadata": {},
   "outputs": [
    {
     "name": "stdout",
     "output_type": "stream",
     "text": [
      "Output #89: [0, 1, 2, 3, 4, 5, 6, 7, 8, 9]\n",
      "Output #90: [3, 5, 1, 7, 2, 8, 4, 9, 0, 6]\n"
     ]
    }
   ],
   "source": [
    "list_copy = unordered_list[:]\n",
    "list_copy.sort()\n",
    "print(\"Output #89: {}\".format(list_copy))\n",
    "print(\"Output #90: {}\".format(unordered_list))\n",
    "\n",
    "# 사본은 인플레이스로 정렬되었으나 원본은 그대로임"
   ]
  },
  {
   "cell_type": "markdown",
   "id": "24e9ecbe",
   "metadata": {},
   "source": [
    "# sorted 함수"
   ]
  },
  {
   "cell_type": "code",
   "execution_count": 31,
   "id": "5f8f6d08",
   "metadata": {},
   "outputs": [
    {
     "name": "stdout",
     "output_type": "stream",
     "text": [
      "Output #91: [[4, 3, 2, 1], [2, 4, 1, 3], [1, 2, 3, 4]]\n"
     ]
    }
   ],
   "source": [
    "# sorted() 함수를 이용하여 리스트들의 특정 위치에 따라 리스트를 정렬 할 수 있다. \n",
    "my_lists = [[1,2,3,4], [4,3,2,1], [2,4,1,3]]\n",
    "my_lists_sorted_by_index_3 = sorted(my_lists, key=lambda index_value: index_value[3])\n",
    "print(\"Output #91: {}\".format(my_lists_sorted_by_index_3))\n",
    "\n",
    "# sorted() 와 key를 결합애서 각 리스트에 있는 특정 인덱스에 있는 값에 따라 중첩리스트를 정렬\n",
    "# key 함수는 리스트를 정렬하기 위해 사용될 기준임.\n",
    "# 예제는 \"람다함수로, 인덱스 3에 위치한 값(즉, 4번 째 값)을 기준으로 정렬한다\"는 의미\n",
    "# my_lists[0] = [1,2,3,4]에서 인덱스3 자리의 값은 \"4\" \n",
    "# my_lists[1] = [4,3,2,1]에서 인덱스3 자리의 값은 \"1\" \n",
    "# my_lists[2] = [2,4,1,3]에서 인덱스3 자리의 값은 \"3\"\n",
    "# 따라서 my_lists[1]이 1등, my_lists[2]가 2등, my_lists[0]가 3등으로 정렬됨!!! (어려웠다....)"
   ]
  },
  {
   "cell_type": "code",
   "execution_count": 34,
   "id": "2dc85b92",
   "metadata": {},
   "outputs": [
    {
     "name": "stdout",
     "output_type": "stream",
     "text": [
      "Output #92: [[461, 1, 1, 290], [578, 1, 1, 290], [22, 6, 6, 444], [123, 2, 2, 444], [236, 5, 5, 678], [354, 4, 4, 678]]\n"
     ]
    }
   ],
   "source": [
    "# itemgetter() 함수를 이용하여 2개의 인덱스 위치에 따라 리스트를 정렬할 수 있다.\n",
    "my_lists=[[123,2,2,444], [22,6,6,444], [354,4,4,678], [236,5,5,678],\\\n",
    "         [578,1,1,290],[461,1,1,290]]\n",
    "my_lists_sorted_by_index_3_and_0 = sorted(my_lists, key=itemgetter(3,0))\n",
    "print(\"Output #92: {}\".format(my_lists_sorted_by_index_3_and_0))\n",
    "# 1차 기준: 인덱스 3으로 1차 정렬 수행\n",
    "# 2차 기준: 인덱스 0으로 2차 정렬 수행\n",
    "# sorted 함수는 인플레이스가 아님.\n",
    "# 두 개 이상의 기준으로 데이터를 정렬해야 할 때 유용하게 사용 가능"
   ]
  },
  {
   "cell_type": "markdown",
   "id": "8890fc52",
   "metadata": {},
   "source": [
    "# 튜플"
   ]
  },
  {
   "cell_type": "code",
   "execution_count": 1,
   "id": "bf4d82ac",
   "metadata": {},
   "outputs": [
    {
     "name": "stdout",
     "output_type": "stream",
     "text": [
      "Output #93: ('x', 'y', 'z')\n",
      "Output #94: My_tuple은 3개의 원소를 가짐.\n",
      "Output #95: y\n",
      "Output #96: ('x', 'y', 'z', 'x', 'y', 'z')\n"
     ]
    }
   ],
   "source": [
    "# 튜플은 리스트와 유사하나 변경이 불가함 \n",
    "# 괄호 사용하여 튜플 생성하기\n",
    "my_tuple = ('x','y','z')\n",
    "print(\"Output #93: {}\".format(my_tuple))\n",
    "print(\"Output #94: My_tuple은 {}개의 원소를 가짐.\".format(len(my_tuple)))\n",
    "print(\"Output #95: {}\".format(my_tuple[1]))\n",
    "longer_tuple = my_tuple + my_tuple\n",
    "print(\"Output #96: {}\".format(longer_tuple))"
   ]
  },
  {
   "cell_type": "markdown",
   "id": "877e5e85",
   "metadata": {},
   "source": [
    "# 튜플 풀기(unpacking)"
   ]
  },
  {
   "cell_type": "code",
   "execution_count": 2,
   "id": "48e1a98f",
   "metadata": {},
   "outputs": [
    {
     "name": "stdout",
     "output_type": "stream",
     "text": [
      "Output #97: x y z\n",
      "Output #98: red robin\n",
      "Output #99: robin red\n"
     ]
    }
   ],
   "source": [
    "# 할당 연산자(=)의 왼편에 튜플을 풀기\n",
    "one, two, three = my_tuple\n",
    "print(\"Output #97: {0} {1} {2}\".format(one, two, three))\n",
    "var1 = 'red'\n",
    "var2 = 'robin'\n",
    "print(\"Output #98: {} {}\".format(var1, var2))\n",
    "# 변수간 값 교환하기\n",
    "var1,var2 = var2,var1\n",
    "print(\"Output #99: {} {}\".format(var1, var2))"
   ]
  },
  {
   "cell_type": "markdown",
   "id": "f958e43f",
   "metadata": {},
   "source": [
    "# 튜플<->리스트"
   ]
  },
  {
   "cell_type": "code",
   "execution_count": 3,
   "id": "41c6cfbd",
   "metadata": {},
   "outputs": [
    {
     "name": "stdout",
     "output_type": "stream",
     "text": [
      "Output #100: (1, 2, 3)\n",
      "Output #101: ['x', 'y', 'z']\n"
     ]
    }
   ],
   "source": [
    "#tuple to list, list to tuple\n",
    "my_list = [1,2,3]\n",
    "my_tuple = ('x','y','z')\n",
    "print(\"Output #100: {}\".format(tuple(my_list)))\n",
    "print(\"Output #101: {}\".format(list(my_tuple)))"
   ]
  },
  {
   "cell_type": "markdown",
   "id": "b9122a59",
   "metadata": {},
   "source": [
    "# 딕셔너리 "
   ]
  },
  {
   "cell_type": "code",
   "execution_count": null,
   "id": "11e3c6c2",
   "metadata": {},
   "outputs": [],
   "source": [
    "# 딕셔너리는 키로 접근하기때문에 딕셔너리 내부의 원소들은 정렬되어 있지 않음.(순서가 없다는 말)\n",
    "# 리스트는 인텍스로 접근하기 때문에 순서를 가지고 있음"
   ]
  },
  {
   "cell_type": "markdown",
   "id": "70c021ce",
   "metadata": {},
   "source": [
    "# 딕셔너리 생성"
   ]
  },
  {
   "cell_type": "code",
   "execution_count": 5,
   "id": "8301e749",
   "metadata": {},
   "outputs": [
    {
     "name": "stdout",
     "output_type": "stream",
     "text": [
      "Output #102: {'one': 1, 'two': 2, 'three': 3}\n",
      "Output #103: a_dict는 3개의 원소를 가지고 있음.\n",
      "Output #104: {3: 'printer', 'y': 5, 'z': ['star', 'circle', 9]}\n",
      "Output #105: another_dict는 3개의 원소를 가지고 있음.\n"
     ]
    }
   ],
   "source": [
    "# 중괄호를 이용하여 딕셔너리 생성\n",
    "# 키와 값 사이에 콜론 사용\n",
    "# len() 함수는 딕셔너리의 키-값 깡의 수를 셈\n",
    "empty_dic = {}\n",
    "a_dict = {'one': 1, 'two': 2, 'three': 3}\n",
    "print(\"Output #102: {}\".format(a_dict))\n",
    "print(\"Output #103: a_dict는 {!s}개의 원소를 가지고 있음.\".format(len(a_dict)))\n",
    "another_dict = {'x': 'printer', 'y': 5, 'z': ['star', 'circle', 9]}\n",
    "print(\"Output #104: {}\".format(another_dict))\n",
    "print(\"Output #105: another_dict는 {!s}개의 원소를 가지고 있음.\".format(len(another_dict)))"
   ]
  },
  {
   "cell_type": "markdown",
   "id": "a559e2e3",
   "metadata": {},
   "source": [
    "# 딕셔너리 내 값 접근"
   ]
  },
  {
   "cell_type": "code",
   "execution_count": 10,
   "id": "b9b337ca",
   "metadata": {},
   "outputs": [
    {
     "name": "stdout",
     "output_type": "stream",
     "text": [
      "Output #106: 2\n",
      "Output #107: ['star', 'circle', 9]\n"
     ]
    }
   ],
   "source": [
    "print(\"Output #106: {}\".format(a_dict['two']))\n",
    "print(\"Output #107: {}\".format(another_dict['z']))"
   ]
  },
  {
   "cell_type": "markdown",
   "id": "f3d9893a",
   "metadata": {},
   "source": [
    "# 딕셔너리 복사"
   ]
  },
  {
   "cell_type": "code",
   "execution_count": 11,
   "id": "79baebdf",
   "metadata": {},
   "outputs": [
    {
     "name": "stdout",
     "output_type": "stream",
     "text": [
      "Output #108: {'one': 1, 'two': 2, 'three': 3}\n"
     ]
    }
   ],
   "source": [
    "# copy() 함수를 이용하여 딕셔너리의 사본을 만들 수 있음\n",
    "a_new_dict = a_dict.copy()\n",
    "print(\"Output #108: {}\".format(a_new_dict))"
   ]
  },
  {
   "cell_type": "code",
   "execution_count": null,
   "id": "9a4be62a",
   "metadata": {},
   "outputs": [],
   "source": []
  },
  {
   "cell_type": "code",
   "execution_count": null,
   "id": "e4f7b77d",
   "metadata": {},
   "outputs": [],
   "source": []
  }
 ],
 "metadata": {
  "kernelspec": {
   "display_name": "Python 3 (ipykernel)",
   "language": "python",
   "name": "python3"
  },
  "language_info": {
   "codemirror_mode": {
    "name": "ipython",
    "version": 3
   },
   "file_extension": ".py",
   "mimetype": "text/x-python",
   "name": "python",
   "nbconvert_exporter": "python",
   "pygments_lexer": "ipython3",
   "version": "3.9.12"
  }
 },
 "nbformat": 4,
 "nbformat_minor": 5
}
