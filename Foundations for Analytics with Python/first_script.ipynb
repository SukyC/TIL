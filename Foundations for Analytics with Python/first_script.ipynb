{
 "cells": [
  {
   "cell_type": "code",
   "execution_count": 3,
   "id": "fc869308",
   "metadata": {},
   "outputs": [
    {
     "name": "stdout",
     "output_type": "stream",
     "text": [
      "O1: I am dedicated to learn Data science.\n"
     ]
    }
   ],
   "source": [
    "print(\"O1: I am dedicated to learn Data science.\")"
   ]
  },
  {
   "cell_type": "code",
   "execution_count": 4,
   "id": "4c41ab5e",
   "metadata": {},
   "outputs": [],
   "source": [
    "#두 수를 더한다.\n",
    "x=4\n",
    "y=5\n",
    "z=x+y"
   ]
  },
  {
   "cell_type": "code",
   "execution_count": 5,
   "id": "374ffec4",
   "metadata": {},
   "outputs": [
    {
     "name": "stdout",
     "output_type": "stream",
     "text": [
      "4 더하기 5는 9 와 같다.\n"
     ]
    }
   ],
   "source": [
    "#format 에서 {0:d}, 0은 인덱스를 뜻함.\n",
    "# {값:표시형식}\n",
    "# d는 앞의 값을 소수접 없는 십진수로 표시하라고 형식을 지정해주는 것.\n",
    "print(\"4 더하기 5는 {0:d} 와 같다.\".format(z))"
   ]
  },
  {
   "cell_type": "code",
   "execution_count": 6,
   "id": "67a3cd0f",
   "metadata": {},
   "outputs": [],
   "source": [
    "a=10\n",
    "b=20\n",
    "c=30"
   ]
  },
  {
   "cell_type": "code",
   "execution_count": 7,
   "id": "f9eee8f5",
   "metadata": {},
   "outputs": [
    {
     "name": "stdout",
     "output_type": "stream",
     "text": [
      "오늘은 10살, 내일은 20살, 내일 모레는 30살!\n"
     ]
    }
   ],
   "source": [
    "print(\"오늘은 {0}살, 내일은 {1}살, 내일 모레는 {2}살!\".format(a,b,c))"
   ]
  },
  {
   "cell_type": "code",
   "execution_count": 8,
   "id": "882e3f24",
   "metadata": {},
   "outputs": [],
   "source": [
    "#두 리스트를 더한다.\n",
    "q=[1,2,3,4]\n",
    "w=[\"first\", \"second\",\"third\",\"fourth\"]\n",
    "e= q+w"
   ]
  },
  {
   "cell_type": "code",
   "execution_count": 9,
   "id": "0023d93d",
   "metadata": {},
   "outputs": [
    {
     "name": "stdout",
     "output_type": "stream",
     "text": [
      "O3: [1, 2, 3, 4],['first', 'second', 'third', 'fourth'],[1, 2, 3, 4, 'first', 'second', 'third', 'fourth']\n"
     ]
    }
   ],
   "source": [
    "print('O3: {0},{1},{2}'.format(q,w,e))"
   ]
  },
  {
   "cell_type": "code",
   "execution_count": null,
   "id": "4736876b",
   "metadata": {},
   "outputs": [],
   "source": []
  }
 ],
 "metadata": {
  "kernelspec": {
   "display_name": "mark",
   "language": "python",
   "name": "mark"
  },
  "language_info": {
   "codemirror_mode": {
    "name": "ipython",
    "version": 3
   },
   "file_extension": ".py",
   "mimetype": "text/x-python",
   "name": "python",
   "nbconvert_exporter": "python",
   "pygments_lexer": "ipython3",
   "version": "3.8.13"
  }
 },
 "nbformat": 4,
 "nbformat_minor": 5
}
